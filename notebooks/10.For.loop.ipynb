{
 "cells": [
  {
   "cell_type": "markdown",
   "id": "6df2b0ef-01d7-461c-9d73-5dce65e7d80b",
   "metadata": {},
   "source": [
    "# Looping in python with `For`\n",
    "1. Executing a loop\n",
    "1. Using `range` to create sequence of numbers"
   ]
  },
  {
   "cell_type": "code",
   "execution_count": 1,
   "id": "995ff9d3-ab58-44ea-b759-7c499b8a74c8",
   "metadata": {},
   "outputs": [
    {
     "name": "stdout",
     "output_type": "stream",
     "text": [
      "1\n",
      "2\n",
      "3\n",
      "4\n",
      "5\n"
     ]
    }
   ],
   "source": [
    "time = [1,2,3,4,5]\n",
    "for i in time:\n",
    "    print(i)"
   ]
  },
  {
   "cell_type": "code",
   "execution_count": 2,
   "id": "6f2f05ac-92d2-4a0c-b19e-410171f04339",
   "metadata": {},
   "outputs": [
    {
     "name": "stdout",
     "output_type": "stream",
     "text": [
      "0\n",
      "1\n",
      "2\n",
      "3\n",
      "4\n"
     ]
    }
   ],
   "source": [
    "for i in range(5):\n",
    "    print(i)"
   ]
  },
  {
   "cell_type": "code",
   "execution_count": 3,
   "id": "bd643055-86b6-4399-81fd-ca08d9ebb227",
   "metadata": {},
   "outputs": [
    {
     "name": "stdout",
     "output_type": "stream",
     "text": [
      "t\n",
      "i\n",
      "n\n"
     ]
    }
   ],
   "source": [
    "for c in \"tin\":\n",
    "    print(c)"
   ]
  },
  {
   "cell_type": "code",
   "execution_count": 4,
   "id": "17572384-a7b1-49c7-b665-381f57a2f470",
   "metadata": {},
   "outputs": [
    {
     "name": "stdout",
     "output_type": "stream",
     "text": [
      "Value i: 1 Value total: 1\n",
      "Value i: 2 Value total: 3\n",
      "Value i: 3 Value total: 6\n",
      "Value i: 4 Value total: 10\n",
      "Value i: 5 Value total: 15\n"
     ]
    }
   ],
   "source": [
    "total = 0\n",
    "for i in time:\n",
    "    total = total + i\n",
    "    print(\"Value i:\",i,\"Value total:\", total)"
   ]
  },
  {
   "cell_type": "code",
   "execution_count": 5,
   "id": "2a547a24-ed41-414d-994f-d8505eda4837",
   "metadata": {},
   "outputs": [
    {
     "name": "stdout",
     "output_type": "stream",
     "text": [
      "1\n",
      "2\n",
      "[3, 4, 5]\n"
     ]
    }
   ],
   "source": [
    "new_time = []\n",
    "\n",
    "for i in time:\n",
    "    if i > 2:\n",
    "        new_time.append(i)\n",
    "    else:\n",
    "        print(i)\n",
    "print(new_time)"
   ]
  },
  {
   "cell_type": "code",
   "execution_count": 6,
   "id": "a500561b-4c22-4270-88e8-fec3ac129061",
   "metadata": {},
   "outputs": [],
   "source": [
    "new_time = []\n",
    "\n",
    "for i in time:\n",
    "    if i > 2:\n",
    "        new_time.append(i)"
   ]
  },
  {
   "cell_type": "code",
   "execution_count": 7,
   "id": "3d88cb45-cc6e-4fee-b78c-1437fb9d2d0b",
   "metadata": {},
   "outputs": [
    {
     "name": "stdout",
     "output_type": "stream",
     "text": [
      "[3, 4, 5]\n"
     ]
    }
   ],
   "source": [
    "print(new_time)"
   ]
  },
  {
   "cell_type": "code",
   "execution_count": 9,
   "id": "71820b56-fad3-4f74-bd21-6389e1a068ce",
   "metadata": {},
   "outputs": [
    {
     "name": "stdout",
     "output_type": "stream",
     "text": [
      "0 < 1\n",
      "2=< 1 >= 1\n",
      "2=< 2 >= 1\n"
     ]
    }
   ],
   "source": [
    "new_time = []\n",
    "time = list(range(0,6))\n",
    "for i in time:\n",
    "    if i > 2:\n",
    "        new_time.append(i)\n",
    "    elif i < 1:\n",
    "        print(i, \"< 1\")\n",
    "    else:\n",
    "        print(\"2=<\" ,i, \">= 1\")"
   ]
  },
  {
   "cell_type": "code",
   "execution_count": null,
   "id": "b707480d-f1f4-47fb-a38f-e172b677b3c8",
   "metadata": {},
   "outputs": [],
   "source": []
  }
 ],
 "metadata": {
  "kernelspec": {
   "display_name": "Python 3 (ipykernel)",
   "language": "python",
   "name": "python3"
  },
  "language_info": {
   "codemirror_mode": {
    "name": "ipython",
    "version": 3
   },
   "file_extension": ".py",
   "mimetype": "text/x-python",
   "name": "python",
   "nbconvert_exporter": "python",
   "pygments_lexer": "ipython3",
   "version": "3.9.6"
  }
 },
 "nbformat": 4,
 "nbformat_minor": 5
}
