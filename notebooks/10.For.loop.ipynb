{
 "cells": [
  {
   "cell_type": "markdown",
   "id": "6df2b0ef-01d7-461c-9d73-5dce65e7d80b",
   "metadata": {},
   "source": [
    "# Looping in python with `For`\n",
    "1. Executing a loop\n",
    "1. Using `range` to create sequence of numbers"
   ]
  },
  {
   "cell_type": "code",
   "execution_count": null,
   "id": "995ff9d3-ab58-44ea-b759-7c499b8a74c8",
   "metadata": {},
   "outputs": [],
   "source": []
  }
 ],
 "metadata": {
  "kernelspec": {
   "display_name": "Python 3 (ipykernel)",
   "language": "python",
   "name": "python3"
  },
  "language_info": {
   "codemirror_mode": {
    "name": "ipython",
    "version": 3
   },
   "file_extension": ".py",
   "mimetype": "text/x-python",
   "name": "python",
   "nbconvert_exporter": "python",
   "pygments_lexer": "ipython3",
   "version": "3.9.10"
  }
 },
 "nbformat": 4,
 "nbformat_minor": 5
}
