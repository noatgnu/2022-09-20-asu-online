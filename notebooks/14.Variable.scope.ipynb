{
 "cells": [
  {
   "cell_type": "markdown",
   "id": "56fadc1e-27ea-487b-8e6b-54179f0997d9",
   "metadata": {},
   "source": [
    "# Variable scope\n",
    "1. Scope within function\n",
    "1. Global variable"
   ]
  },
  {
   "cell_type": "code",
   "execution_count": null,
   "id": "47d7f9f6-f1fd-4f8e-a3a9-3e3015e4d54a",
   "metadata": {},
   "outputs": [],
   "source": []
  }
 ],
 "metadata": {
  "kernelspec": {
   "display_name": "Python 3 (ipykernel)",
   "language": "python",
   "name": "python3"
  },
  "language_info": {
   "codemirror_mode": {
    "name": "ipython",
    "version": 3
   },
   "file_extension": ".py",
   "mimetype": "text/x-python",
   "name": "python",
   "nbconvert_exporter": "python",
   "pygments_lexer": "ipython3",
   "version": "3.9.10"
  }
 },
 "nbformat": 4,
 "nbformat_minor": 5
}
