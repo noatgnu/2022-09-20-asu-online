{
 "cells": [
  {
   "cell_type": "markdown",
   "id": "be19bf8a-1fac-4580-8f23-80e3379f885d",
   "metadata": {},
   "source": [
    "# Python built-in functions and documentation\n",
    "1. Usage of `#`\n",
    "1. Function arguments and outputs\n",
    "1. `max`, `min` and `round`\n",
    "1. `help` and `?`\n",
    "1. Python errors"
   ]
  },
  {
   "cell_type": "code",
   "execution_count": null,
   "id": "1f5f2fd9-7790-4601-8293-c3f4a087fe86",
   "metadata": {},
   "outputs": [],
   "source": []
  }
 ],
 "metadata": {
  "kernelspec": {
   "display_name": "Python 3 (ipykernel)",
   "language": "python",
   "name": "python3"
  },
  "language_info": {
   "codemirror_mode": {
    "name": "ipython",
    "version": 3
   },
   "file_extension": ".py",
   "mimetype": "text/x-python",
   "name": "python",
   "nbconvert_exporter": "python",
   "pygments_lexer": "ipython3",
   "version": "3.9.10"
  }
 },
 "nbformat": 4,
 "nbformat_minor": 5
}
