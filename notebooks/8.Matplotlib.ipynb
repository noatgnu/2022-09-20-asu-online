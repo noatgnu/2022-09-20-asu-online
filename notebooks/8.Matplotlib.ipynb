{
 "cells": [
  {
   "cell_type": "markdown",
   "id": "57be6202-bd44-4ac5-ae4a-de5d9678a9ce",
   "metadata": {},
   "source": [
    "# Data visualization with Pandas and Matplotlib\n",
    "1. Plotting with `pandas`\n",
    "1. Plotting with `matplotlib`\n",
    "1. Saving plot"
   ]
  },
  {
   "cell_type": "code",
   "execution_count": null,
   "id": "171096b7-fa81-49bd-8165-cdf2b41a7133",
   "metadata": {},
   "outputs": [],
   "source": []
  }
 ],
 "metadata": {
  "kernelspec": {
   "display_name": "Python 3 (ipykernel)",
   "language": "python",
   "name": "python3"
  },
  "language_info": {
   "codemirror_mode": {
    "name": "ipython",
    "version": 3
   },
   "file_extension": ".py",
   "mimetype": "text/x-python",
   "name": "python",
   "nbconvert_exporter": "python",
   "pygments_lexer": "ipython3",
   "version": "3.9.10"
  }
 },
 "nbformat": 4,
 "nbformat_minor": 5
}
