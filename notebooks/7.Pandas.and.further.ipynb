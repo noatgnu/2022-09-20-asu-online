{
 "cells": [
  {
   "cell_type": "markdown",
   "id": "547d2851-3c73-4ea0-bbfa-90040bdbbc22",
   "metadata": {},
   "source": [
    "# Pandas and further\n",
    "1. Subset and slicing with `iloc` and `loc`\n",
    "1. Conditional filtering of data\n",
    "1. Case example: Calculation of wealth score based on number of year a country GDP crossed the mean GDP of the region."
   ]
  },
  {
   "cell_type": "code",
   "execution_count": null,
   "id": "b43ce1b4-3fbe-47ba-89f4-9caf6244f79b",
   "metadata": {},
   "outputs": [],
   "source": []
  }
 ],
 "metadata": {
  "kernelspec": {
   "display_name": "Python 3 (ipykernel)",
   "language": "python",
   "name": "python3"
  },
  "language_info": {
   "codemirror_mode": {
    "name": "ipython",
    "version": 3
   },
   "file_extension": ".py",
   "mimetype": "text/x-python",
   "name": "python",
   "nbconvert_exporter": "python",
   "pygments_lexer": "ipython3",
   "version": "3.9.10"
  }
 },
 "nbformat": 4,
 "nbformat_minor": 5
}
