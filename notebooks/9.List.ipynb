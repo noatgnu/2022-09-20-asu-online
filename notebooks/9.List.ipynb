{
 "cells": [
  {
   "cell_type": "markdown",
   "id": "0d3f53e0-7156-4a2b-9dd5-0725fb6e4bc7",
   "metadata": {},
   "source": [
    "# Python list\n",
    "1. Using list to store multiple values\n",
    "1. List indexing\n",
    "1. Add item to list\n",
    "1. Remove item from list"
   ]
  },
  {
   "cell_type": "code",
   "execution_count": null,
   "id": "31846a52-03f1-4ea0-8323-abda40ba5f4f",
   "metadata": {},
   "outputs": [],
   "source": []
  }
 ],
 "metadata": {
  "kernelspec": {
   "display_name": "Python 3 (ipykernel)",
   "language": "python",
   "name": "python3"
  },
  "language_info": {
   "codemirror_mode": {
    "name": "ipython",
    "version": 3
   },
   "file_extension": ".py",
   "mimetype": "text/x-python",
   "name": "python",
   "nbconvert_exporter": "python",
   "pygments_lexer": "ipython3",
   "version": "3.9.10"
  }
 },
 "nbformat": 4,
 "nbformat_minor": 5
}
