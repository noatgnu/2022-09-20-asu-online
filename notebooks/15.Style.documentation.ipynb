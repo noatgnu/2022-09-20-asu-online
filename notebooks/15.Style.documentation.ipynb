{
 "cells": [
  {
   "cell_type": "markdown",
   "id": "15d2da45-b525-4401-9e08-266b67d98ff7",
   "metadata": {},
   "source": [
    "# Style and documentation\n",
    "1. Controlled input\n",
    "1. Documentation using docstring\n",
    "1. Any further questions?"
   ]
  },
  {
   "cell_type": "code",
   "execution_count": null,
   "id": "bfcb40c9-a5ba-417a-a67e-744a79fb824d",
   "metadata": {},
   "outputs": [],
   "source": []
  }
 ],
 "metadata": {
  "kernelspec": {
   "display_name": "Python 3 (ipykernel)",
   "language": "python",
   "name": "python3"
  },
  "language_info": {
   "codemirror_mode": {
    "name": "ipython",
    "version": 3
   },
   "file_extension": ".py",
   "mimetype": "text/x-python",
   "name": "python",
   "nbconvert_exporter": "python",
   "pygments_lexer": "ipython3",
   "version": "3.9.10"
  }
 },
 "nbformat": 4,
 "nbformat_minor": 5
}
