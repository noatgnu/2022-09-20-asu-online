{
 "cells": [
  {
   "cell_type": "markdown",
   "id": "acffcdc7-0040-4b00-8bf5-041766c991cd",
   "metadata": {},
   "source": [
    "# Libraries, Modules, Packages...\n",
    "1. Importing libraries\n",
    "1. Aliasing import"
   ]
  },
  {
   "cell_type": "code",
   "execution_count": null,
   "id": "b80c7aba-2d35-48cf-bf7d-7d9bfbc95f8e",
   "metadata": {},
   "outputs": [],
   "source": []
  }
 ],
 "metadata": {
  "kernelspec": {
   "display_name": "Python 3 (ipykernel)",
   "language": "python",
   "name": "python3"
  },
  "language_info": {
   "codemirror_mode": {
    "name": "ipython",
    "version": 3
   },
   "file_extension": ".py",
   "mimetype": "text/x-python",
   "name": "python",
   "nbconvert_exporter": "python",
   "pygments_lexer": "ipython3",
   "version": "3.9.10"
  }
 },
 "nbformat": 4,
 "nbformat_minor": 5
}
