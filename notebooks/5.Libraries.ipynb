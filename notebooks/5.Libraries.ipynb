{
 "cells": [
  {
   "cell_type": "markdown",
   "id": "acffcdc7-0040-4b00-8bf5-041766c991cd",
   "metadata": {},
   "source": [
    "# Libraries, Modules, Packages...\n",
    "1. Importing libraries\n",
    "1. Aliasing import"
   ]
  },
  {
   "cell_type": "code",
   "execution_count": 1,
   "id": "b80c7aba-2d35-48cf-bf7d-7d9bfbc95f8e",
   "metadata": {},
   "outputs": [],
   "source": [
    "import math"
   ]
  },
  {
   "cell_type": "code",
   "execution_count": 2,
   "id": "6dd93178-5508-4393-b788-1329a3cc5e7f",
   "metadata": {},
   "outputs": [
    {
     "name": "stdout",
     "output_type": "stream",
     "text": [
      "pi is 3.141592653589793\n"
     ]
    }
   ],
   "source": [
    "print(\"pi is\", math.pi)"
   ]
  },
  {
   "cell_type": "code",
   "execution_count": 3,
   "id": "633ca67f-0f88-4e7d-9565-5fae8c9d1f07",
   "metadata": {},
   "outputs": [
    {
     "name": "stdout",
     "output_type": "stream",
     "text": [
      "cos(pi) is -1.0\n"
     ]
    }
   ],
   "source": [
    "print(\"cos(pi) is\", math.cos(math.pi))"
   ]
  },
  {
   "cell_type": "code",
   "execution_count": 4,
   "id": "323be404-041d-40f1-8a16-99a21e029c92",
   "metadata": {},
   "outputs": [
    {
     "name": "stdout",
     "output_type": "stream",
     "text": [
      "cos(pi) is -1.0\n"
     ]
    }
   ],
   "source": [
    "from math import cos, pi\n",
    "print(\"cos(pi) is\", cos(pi))"
   ]
  },
  {
   "cell_type": "code",
   "execution_count": 5,
   "id": "afa8e4a3-5beb-4bfa-87a1-25540ed79bcf",
   "metadata": {},
   "outputs": [
    {
     "data": {
      "text/plain": [
       "2.0"
      ]
     },
     "execution_count": 5,
     "metadata": {},
     "output_type": "execute_result"
    }
   ],
   "source": [
    "math.sqrt(4)"
   ]
  },
  {
   "cell_type": "code",
   "execution_count": 6,
   "id": "d43e6cc0-ea24-4e9c-84a7-6ba8071371f8",
   "metadata": {},
   "outputs": [
    {
     "data": {
      "text/plain": [
       "5.0"
      ]
     },
     "execution_count": 6,
     "metadata": {},
     "output_type": "execute_result"
    }
   ],
   "source": [
    "math.sqrt(25)"
   ]
  },
  {
   "cell_type": "code",
   "execution_count": 7,
   "id": "32dc8ddb-c0ea-4f66-91a0-a6183d34d09b",
   "metadata": {},
   "outputs": [
    {
     "name": "stdout",
     "output_type": "stream",
     "text": [
      "random base  A base index 0\n"
     ]
    }
   ],
   "source": [
    "bases=\"ACTTGCTTGAC\"\n",
    "import math\n",
    "import random\n",
    "n_bases = len(bases)\n",
    "random_dna = random.randrange(n_bases)\n",
    "print(\"random base \", bases[random_dna], \"base index\", random_dna)"
   ]
  },
  {
   "cell_type": "code",
   "execution_count": 8,
   "id": "2bb517eb-39dc-4cb5-9cbf-cb51abfce148",
   "metadata": {},
   "outputs": [
    {
     "name": "stdout",
     "output_type": "stream",
     "text": [
      "5.0\n"
     ]
    }
   ],
   "source": [
    "import math as m\n",
    "print(m.sqrt(25))\n"
   ]
  },
  {
   "cell_type": "code",
   "execution_count": null,
   "id": "9ae63f37-93a4-43b6-b755-1ec6e0152bc8",
   "metadata": {},
   "outputs": [],
   "source": []
  }
 ],
 "metadata": {
  "kernelspec": {
   "display_name": "Python 3 (ipykernel)",
   "language": "python",
   "name": "python3"
  },
  "language_info": {
   "codemirror_mode": {
    "name": "ipython",
    "version": 3
   },
   "file_extension": ".py",
   "mimetype": "text/x-python",
   "name": "python",
   "nbconvert_exporter": "python",
   "pygments_lexer": "ipython3",
   "version": "3.9.6"
  }
 },
 "nbformat": 4,
 "nbformat_minor": 5
}
