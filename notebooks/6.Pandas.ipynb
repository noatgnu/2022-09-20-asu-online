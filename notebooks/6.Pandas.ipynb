{
 "cells": [
  {
   "cell_type": "markdown",
   "id": "93d20ded-2b84-4f59-a74f-deb56d9c7c2c",
   "metadata": {},
   "source": [
    "# Handling tabular data in python\n",
    "1. Using `pandas` with tabular data\n",
    "1. Using indexing with dataframe\n",
    "1. Dataframe manipulation"
   ]
  },
  {
   "cell_type": "code",
   "execution_count": null,
   "id": "9072b1a8-4ac3-42f4-803c-34a5e8c035f6",
   "metadata": {},
   "outputs": [],
   "source": []
  }
 ],
 "metadata": {
  "kernelspec": {
   "display_name": "Python 3 (ipykernel)",
   "language": "python",
   "name": "python3"
  },
  "language_info": {
   "codemirror_mode": {
    "name": "ipython",
    "version": 3
   },
   "file_extension": ".py",
   "mimetype": "text/x-python",
   "name": "python",
   "nbconvert_exporter": "python",
   "pygments_lexer": "ipython3",
   "version": "3.9.10"
  }
 },
 "nbformat": 4,
 "nbformat_minor": 5
}
