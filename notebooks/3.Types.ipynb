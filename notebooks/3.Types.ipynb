{
 "cells": [
  {
   "cell_type": "markdown",
   "id": "2452a797-85f4-4881-8291-087756eef278",
   "metadata": {},
   "source": [
    "# Python type and type conversion\n",
    "1. Built-in python types\n",
    "1. Operators\n",
    "1. Type and `len` method"
   ]
  },
  {
   "cell_type": "code",
   "execution_count": null,
   "id": "df82f7e1-7fdf-4d77-9930-a1064be13dbd",
   "metadata": {},
   "outputs": [],
   "source": []
  }
 ],
 "metadata": {
  "kernelspec": {
   "display_name": "Python 3 (ipykernel)",
   "language": "python",
   "name": "python3"
  },
  "language_info": {
   "codemirror_mode": {
    "name": "ipython",
    "version": 3
   },
   "file_extension": ".py",
   "mimetype": "text/x-python",
   "name": "python",
   "nbconvert_exporter": "python",
   "pygments_lexer": "ipython3",
   "version": "3.9.10"
  }
 },
 "nbformat": 4,
 "nbformat_minor": 5
}
