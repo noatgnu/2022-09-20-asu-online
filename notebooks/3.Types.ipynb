{
 "cells": [
  {
   "cell_type": "markdown",
   "id": "2452a797-85f4-4881-8291-087756eef278",
   "metadata": {},
   "source": [
    "# Python type and type conversion\n",
    "1. Built-in python types\n",
    "1. Operators\n",
    "1. Type and `len` method"
   ]
  },
  {
   "cell_type": "code",
   "execution_count": 1,
   "id": "df82f7e1-7fdf-4d77-9930-a1064be13dbd",
   "metadata": {},
   "outputs": [
    {
     "data": {
      "text/plain": [
       "int"
      ]
     },
     "execution_count": 1,
     "metadata": {},
     "output_type": "execute_result"
    }
   ],
   "source": [
    "type(30)"
   ]
  },
  {
   "cell_type": "code",
   "execution_count": 2,
   "id": "c5517e16-ef55-4142-94a7-fc2ea35c0043",
   "metadata": {},
   "outputs": [
    {
     "data": {
      "text/plain": [
       "float"
      ]
     },
     "execution_count": 2,
     "metadata": {},
     "output_type": "execute_result"
    }
   ],
   "source": [
    "type(3.14)"
   ]
  },
  {
   "cell_type": "code",
   "execution_count": 3,
   "id": "feaf21ff-a3fd-4853-8cc4-4dbb0ebaff92",
   "metadata": {},
   "outputs": [
    {
     "name": "stdout",
     "output_type": "stream",
     "text": [
      "<class 'int'>\n"
     ]
    }
   ],
   "source": [
    "print(type(30))"
   ]
  },
  {
   "cell_type": "code",
   "execution_count": 4,
   "id": "48e07afd-32cb-464c-8a1b-d92658fd091c",
   "metadata": {},
   "outputs": [
    {
     "name": "stdout",
     "output_type": "stream",
     "text": [
      "<class 'float'>\n"
     ]
    }
   ],
   "source": [
    "print(type(3.14))"
   ]
  },
  {
   "cell_type": "code",
   "execution_count": 5,
   "id": "0b2291eb-2fdf-4eb2-888e-2888cc7cf8a3",
   "metadata": {},
   "outputs": [
    {
     "data": {
      "text/plain": [
       "str"
      ]
     },
     "execution_count": 5,
     "metadata": {},
     "output_type": "execute_result"
    }
   ],
   "source": [
    "type(\"average\")"
   ]
  },
  {
   "cell_type": "code",
   "execution_count": 6,
   "id": "8a9e81a9-f683-4453-b5bf-cf6a53d267eb",
   "metadata": {},
   "outputs": [
    {
     "name": "stdout",
     "output_type": "stream",
     "text": [
      "2\n"
     ]
    }
   ],
   "source": [
    "print(5-3)"
   ]
  },
  {
   "cell_type": "code",
   "execution_count": 7,
   "id": "4124f5e4-c9c8-4b01-93c6-0076e3cef00d",
   "metadata": {},
   "outputs": [
    {
     "ename": "TypeError",
     "evalue": "unsupported operand type(s) for -: 'str' and 'str'",
     "output_type": "error",
     "traceback": [
      "\u001b[1;31m---------------------------------------------------------------------------\u001b[0m",
      "\u001b[1;31mTypeError\u001b[0m                                 Traceback (most recent call last)",
      "Cell \u001b[1;32mIn [7], line 1\u001b[0m\n\u001b[1;32m----> 1\u001b[0m \u001b[38;5;28mprint\u001b[39m(\u001b[38;5;124;43m\"\u001b[39;49m\u001b[38;5;124;43mhello\u001b[39;49m\u001b[38;5;124;43m\"\u001b[39;49m\u001b[43m \u001b[49m\u001b[38;5;241;43m-\u001b[39;49m\u001b[43m \u001b[49m\u001b[38;5;124;43m\"\u001b[39;49m\u001b[38;5;124;43mh\u001b[39;49m\u001b[38;5;124;43m\"\u001b[39;49m)\n",
      "\u001b[1;31mTypeError\u001b[0m: unsupported operand type(s) for -: 'str' and 'str'"
     ]
    }
   ],
   "source": [
    "print(\"hello\" - \"h\")"
   ]
  },
  {
   "cell_type": "code",
   "execution_count": 8,
   "id": "4d1e27c8-8341-424c-9e5e-e8f31a8a0d5f",
   "metadata": {},
   "outputs": [
    {
     "data": {
      "text/plain": [
       "'ello'"
      ]
     },
     "execution_count": 8,
     "metadata": {},
     "output_type": "execute_result"
    }
   ],
   "source": [
    "\"hello\"[1:]"
   ]
  },
  {
   "cell_type": "code",
   "execution_count": 9,
   "id": "8378e5f7-6e39-4b9b-a693-ef1f5a7cdb47",
   "metadata": {},
   "outputs": [
    {
     "data": {
      "text/plain": [
       "6"
      ]
     },
     "execution_count": 9,
     "metadata": {},
     "output_type": "execute_result"
    }
   ],
   "source": [
    "2*3"
   ]
  },
  {
   "cell_type": "code",
   "execution_count": 10,
   "id": "dba74be5-489b-4c97-a662-d3637fe2128d",
   "metadata": {},
   "outputs": [
    {
     "name": "stdout",
     "output_type": "stream",
     "text": [
      "Toan Phung\n"
     ]
    }
   ],
   "source": [
    "full_name = \"Toan\" + \" \" + \"Phung\"\n",
    "print(full_name)"
   ]
  },
  {
   "cell_type": "code",
   "execution_count": 11,
   "id": "200df359-df52-4b64-b4ce-31479efe54bd",
   "metadata": {},
   "outputs": [
    {
     "data": {
      "text/plain": [
       "',,,'"
      ]
     },
     "execution_count": 11,
     "metadata": {},
     "output_type": "execute_result"
    }
   ],
   "source": [
    "\",\"*3"
   ]
  },
  {
   "cell_type": "code",
   "execution_count": 12,
   "id": "a4d0209f-4107-4f44-9f7f-c4201e8386cb",
   "metadata": {},
   "outputs": [
    {
     "ename": "TypeError",
     "evalue": "unsupported operand type(s) for +: 'int' and 'str'",
     "output_type": "error",
     "traceback": [
      "\u001b[1;31m---------------------------------------------------------------------------\u001b[0m",
      "\u001b[1;31mTypeError\u001b[0m                                 Traceback (most recent call last)",
      "Cell \u001b[1;32mIn [12], line 1\u001b[0m\n\u001b[1;32m----> 1\u001b[0m \u001b[38;5;241;43m1\u001b[39;49m\u001b[38;5;241;43m+\u001b[39;49m\u001b[38;5;124;43m\"\u001b[39;49m\u001b[38;5;124;43m2\u001b[39;49m\u001b[38;5;124;43m\"\u001b[39;49m\n",
      "\u001b[1;31mTypeError\u001b[0m: unsupported operand type(s) for +: 'int' and 'str'"
     ]
    }
   ],
   "source": [
    "1+\"2\""
   ]
  },
  {
   "cell_type": "code",
   "execution_count": 13,
   "id": "e55f4e44-c41b-43db-9b87-8087dd4ace58",
   "metadata": {},
   "outputs": [
    {
     "data": {
      "text/plain": [
       "'12'"
      ]
     },
     "execution_count": 13,
     "metadata": {},
     "output_type": "execute_result"
    }
   ],
   "source": [
    "str(1)+\"2\""
   ]
  },
  {
   "cell_type": "code",
   "execution_count": 14,
   "id": "29d8f52a-d871-449b-9e54-f83f2036073f",
   "metadata": {},
   "outputs": [
    {
     "data": {
      "text/plain": [
       "3"
      ]
     },
     "execution_count": 14,
     "metadata": {},
     "output_type": "execute_result"
    }
   ],
   "source": [
    "1+int(\"2\")"
   ]
  },
  {
   "cell_type": "code",
   "execution_count": 15,
   "id": "5efb1e4d-5f37-47ba-b81e-2bc7b76c33e3",
   "metadata": {},
   "outputs": [
    {
     "name": "stdout",
     "output_type": "stream",
     "text": [
      "9.0\n",
      "1.0\n",
      "5.0\n"
     ]
    }
   ],
   "source": [
    "print(3.0*3)\n",
    "print(3.0-2)\n",
    "print(2+3.0)"
   ]
  },
  {
   "cell_type": "code",
   "execution_count": 16,
   "id": "255e69c0-3c57-43cb-8708-253891e24a37",
   "metadata": {},
   "outputs": [
    {
     "data": {
      "text/plain": [
       "3"
      ]
     },
     "execution_count": 16,
     "metadata": {},
     "output_type": "execute_result"
    }
   ],
   "source": [
    "round(3.0)"
   ]
  },
  {
   "cell_type": "code",
   "execution_count": 17,
   "id": "3378449d-be94-433e-9a6b-04dc7f89bd31",
   "metadata": {},
   "outputs": [
    {
     "data": {
      "text/plain": [
       "4"
      ]
     },
     "execution_count": 17,
     "metadata": {},
     "output_type": "execute_result"
    }
   ],
   "source": [
    "round(3.5)"
   ]
  },
  {
   "cell_type": "code",
   "execution_count": 18,
   "id": "edfa448f-ef36-45b8-bcd6-ec9f96483b1c",
   "metadata": {},
   "outputs": [
    {
     "data": {
      "text/plain": [
       "2"
      ]
     },
     "execution_count": 18,
     "metadata": {},
     "output_type": "execute_result"
    }
   ],
   "source": [
    "round(2.5)"
   ]
  },
  {
   "cell_type": "code",
   "execution_count": 19,
   "id": "8a9fb041-f2e1-4de9-8f24-cecda17c94c7",
   "metadata": {},
   "outputs": [],
   "source": [
    "a_complex_number = 8 + 2j"
   ]
  },
  {
   "cell_type": "code",
   "execution_count": 20,
   "id": "d90ac2a7-f355-4313-9182-a5fed56742fa",
   "metadata": {},
   "outputs": [
    {
     "name": "stdout",
     "output_type": "stream",
     "text": [
      "2.0\n",
      "8.0\n"
     ]
    }
   ],
   "source": [
    "print(a_complex_number.imag)\n",
    "print(a_complex_number.real)"
   ]
  },
  {
   "cell_type": "code",
   "execution_count": 21,
   "id": "dcd8afc2-70c0-4d1c-ac9e-5e1a14e258b7",
   "metadata": {},
   "outputs": [
    {
     "data": {
      "text/plain": [
       "complex"
      ]
     },
     "execution_count": 21,
     "metadata": {},
     "output_type": "execute_result"
    }
   ],
   "source": [
    "type(a_complex_number)"
   ]
  },
  {
   "cell_type": "code",
   "execution_count": 22,
   "id": "b2281d76-359d-47f0-857a-19c7463f23f9",
   "metadata": {},
   "outputs": [
    {
     "name": "stdout",
     "output_type": "stream",
     "text": [
      "<class 'float'>\n",
      "<class 'float'>\n"
     ]
    }
   ],
   "source": [
    "print(type(a_complex_number.imag))\n",
    "print(type(a_complex_number.real))"
   ]
  },
  {
   "cell_type": "code",
   "execution_count": null,
   "id": "4c5539c1-b81c-401c-9a62-b033fb36ea62",
   "metadata": {},
   "outputs": [],
   "source": []
  }
 ],
 "metadata": {
  "kernelspec": {
   "display_name": "Python 3 (ipykernel)",
   "language": "python",
   "name": "python3"
  },
  "language_info": {
   "codemirror_mode": {
    "name": "ipython",
    "version": 3
   },
   "file_extension": ".py",
   "mimetype": "text/x-python",
   "name": "python",
   "nbconvert_exporter": "python",
   "pygments_lexer": "ipython3",
   "version": "3.9.6"
  }
 },
 "nbformat": 4,
 "nbformat_minor": 5
}
