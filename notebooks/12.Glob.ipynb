{
 "cells": [
  {
   "cell_type": "markdown",
   "id": "41bcad2f-fa41-4e75-9a6c-f8867ec547de",
   "metadata": {},
   "source": [
    "# Handling multiple data files with loop\n",
    "1. Loading multiple files with `glob`\n",
    "1. Using wildcard in `glob`\n",
    "1. Iterative addition of plot to figure"
   ]
  },
  {
   "cell_type": "code",
   "execution_count": null,
   "id": "015427f8-1718-4f86-958d-c5f714a5970b",
   "metadata": {},
   "outputs": [],
   "source": []
  }
 ],
 "metadata": {
  "kernelspec": {
   "display_name": "Python 3 (ipykernel)",
   "language": "python",
   "name": "python3"
  },
  "language_info": {
   "codemirror_mode": {
    "name": "ipython",
    "version": 3
   },
   "file_extension": ".py",
   "mimetype": "text/x-python",
   "name": "python",
   "nbconvert_exporter": "python",
   "pygments_lexer": "ipython3",
   "version": "3.9.10"
  }
 },
 "nbformat": 4,
 "nbformat_minor": 5
}
