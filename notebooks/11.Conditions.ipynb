{
 "cells": [
  {
   "cell_type": "markdown",
   "id": "fb42544f-b30d-4c79-8d24-09921bfe03e9",
   "metadata": {},
   "source": [
    "# Python conditional statements\n",
    "1. `if`, `elif` and `else`\n",
    "1. `and` and `or`"
   ]
  },
  {
   "cell_type": "code",
   "execution_count": null,
   "id": "c1a34101-9a20-4a2e-99b4-576a5b272ef8",
   "metadata": {},
   "outputs": [],
   "source": []
  }
 ],
 "metadata": {
  "kernelspec": {
   "display_name": "Python 3 (ipykernel)",
   "language": "python",
   "name": "python3"
  },
  "language_info": {
   "codemirror_mode": {
    "name": "ipython",
    "version": 3
   },
   "file_extension": ".py",
   "mimetype": "text/x-python",
   "name": "python",
   "nbconvert_exporter": "python",
   "pygments_lexer": "ipython3",
   "version": "3.9.10"
  }
 },
 "nbformat": 4,
 "nbformat_minor": 5
}
