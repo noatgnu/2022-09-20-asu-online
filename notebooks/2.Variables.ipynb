{
 "cells": [
  {
   "cell_type": "markdown",
   "id": "0ec57d32-0a4d-4366-a2a4-014a67d830be",
   "metadata": {
    "tags": []
   },
   "source": [
    "# Python variables and where to find them\n",
    "1. Create and storing variable\n",
    "1. Printing value into console\n",
    "1. Variable scope\n",
    "1. Basic arithmetic with python\n",
    "1. Indexing and slicing python string\n",
    "1. Variable naming best practice"
   ]
  },
  {
   "cell_type": "code",
   "execution_count": 10,
   "id": "f416a735-b0d4-4975-8edf-87f1034be79e",
   "metadata": {},
   "outputs": [],
   "source": [
    "age = 31\n",
    "first_name = \"Toan\""
   ]
  },
  {
   "cell_type": "code",
   "execution_count": 11,
   "id": "d2ac35e2-1efb-48fc-a9e3-7d7499b0f0ad",
   "metadata": {},
   "outputs": [
    {
     "name": "stdout",
     "output_type": "stream",
     "text": [
      "Toan is 31 years old\n"
     ]
    }
   ],
   "source": [
    "print(first_name, \"is\", age, \"years old\")"
   ]
  },
  {
   "cell_type": "code",
   "execution_count": 8,
   "id": "923c09ba-a928-4110-9253-c3a9f98688b2",
   "metadata": {},
   "outputs": [
    {
     "ename": "NameError",
     "evalue": "name 'last_name' is not defined",
     "output_type": "error",
     "traceback": [
      "\u001b[1;31m---------------------------------------------------------------------------\u001b[0m",
      "\u001b[1;31mNameError\u001b[0m                                 Traceback (most recent call last)",
      "Cell \u001b[1;32mIn [8], line 1\u001b[0m\n\u001b[1;32m----> 1\u001b[0m \u001b[38;5;28mprint\u001b[39m(\u001b[43mlast_name\u001b[49m)\n",
      "\u001b[1;31mNameError\u001b[0m: name 'last_name' is not defined"
     ]
    }
   ],
   "source": [
    "print(last_name)"
   ]
  },
  {
   "cell_type": "code",
   "execution_count": 9,
   "id": "6fa4de10-3c43-4e52-af24-39f000c118f7",
   "metadata": {},
   "outputs": [
    {
     "name": "stdout",
     "output_type": "stream",
     "text": [
      "Phung\n"
     ]
    }
   ],
   "source": [
    "last_name = \"Phung\"\n",
    "print(last_name)"
   ]
  },
  {
   "cell_type": "code",
   "execution_count": 12,
   "id": "73a72103-f043-4d08-93fc-98432aaa963c",
   "metadata": {},
   "outputs": [],
   "source": [
    "atom_name = \"helium\""
   ]
  },
  {
   "cell_type": "code",
   "execution_count": 13,
   "id": "6b82dcbd-61c8-4437-8504-c8f7991a0d57",
   "metadata": {},
   "outputs": [
    {
     "name": "stdout",
     "output_type": "stream",
     "text": [
      "h\n"
     ]
    }
   ],
   "source": [
    "print(atom_name[0])"
   ]
  },
  {
   "cell_type": "code",
   "execution_count": 14,
   "id": "efee66b6-c54b-4287-9838-e42fb3ec91d9",
   "metadata": {},
   "outputs": [
    {
     "name": "stdout",
     "output_type": "stream",
     "text": [
      "hel\n"
     ]
    }
   ],
   "source": [
    "print(atom_name[0:3])"
   ]
  },
  {
   "cell_type": "code",
   "execution_count": 15,
   "id": "3e2a6c55-8bd7-47f8-a0b4-6da34d94c122",
   "metadata": {},
   "outputs": [
    {
     "data": {
      "text/plain": [
       "6"
      ]
     },
     "execution_count": 15,
     "metadata": {},
     "output_type": "execute_result"
    }
   ],
   "source": [
    "len(atom_name)"
   ]
  },
  {
   "cell_type": "code",
   "execution_count": 16,
   "id": "fad43881-3b0e-49f4-86ff-aeb515133c5d",
   "metadata": {},
   "outputs": [
    {
     "name": "stdout",
     "output_type": "stream",
     "text": [
      "6\n"
     ]
    }
   ],
   "source": [
    "print(len(atom_name))"
   ]
  },
  {
   "cell_type": "code",
   "execution_count": 17,
   "id": "f6ee0321-7c59-4c79-8eb7-c39763311072",
   "metadata": {},
   "outputs": [
    {
     "ename": "SyntaxError",
     "evalue": "invalid decimal literal (1093131553.py, line 1)",
     "output_type": "error",
     "traceback": [
      "\u001b[1;36m  Cell \u001b[1;32mIn [17], line 1\u001b[1;36m\u001b[0m\n\u001b[1;33m    0_point = \"0.\"\u001b[0m\n\u001b[1;37m     ^\u001b[0m\n\u001b[1;31mSyntaxError\u001b[0m\u001b[1;31m:\u001b[0m invalid decimal literal\n"
     ]
    }
   ],
   "source": [
    "0_point = \"0.\""
   ]
  },
  {
   "cell_type": "code",
   "execution_count": 19,
   "id": "a6dc6a04-aa60-44c9-862d-6a00ad0d9ecf",
   "metadata": {},
   "outputs": [],
   "source": [
    "a = 1\n",
    "b = 2\n",
    "result_from_a_and_b = a + b"
   ]
  },
  {
   "cell_type": "code",
   "execution_count": 20,
   "id": "e3976a87-1551-4a60-ad78-e74a885f11b0",
   "metadata": {},
   "outputs": [
    {
     "name": "stdout",
     "output_type": "stream",
     "text": [
      "3\n"
     ]
    }
   ],
   "source": [
    "print(result_from_a_and_b)"
   ]
  },
  {
   "cell_type": "code",
   "execution_count": 21,
   "id": "632d0850-7577-466e-8d06-fa469f4d354c",
   "metadata": {},
   "outputs": [
    {
     "name": "stdout",
     "output_type": "stream",
     "text": [
      "value of x = 3.0 . value of y = 1.0 . value of swap = 1.0\n"
     ]
    }
   ],
   "source": [
    "# Command  # Value of x   # Value of y   # Value of swap #\n",
    "x = 1.0    # 1             # undefined             # undefined              #\n",
    "y = 3.0    # 1             # 3             # undefined              #\n",
    "swap = x   # 1             # 3             # 1              #\n",
    "x = y      # 3             # 3             # 1              #\n",
    "y = swap   # 3             # 1             # 1              #\n",
    "print(\"value of x =\", x, \". value of y =\", y, \". value of swap =\", swap)"
   ]
  },
  {
   "cell_type": "code",
   "execution_count": 22,
   "id": "05314e81-2dc3-4631-bd2c-b31ab9ea0a4b",
   "metadata": {},
   "outputs": [],
   "source": [
    "a = 123 # what would you need to get the second digit of a via a[1]"
   ]
  },
  {
   "cell_type": "code",
   "execution_count": 23,
   "id": "db3a090b-43aa-4f47-b31a-29b95d8a7296",
   "metadata": {},
   "outputs": [
    {
     "ename": "TypeError",
     "evalue": "'int' object is not subscriptable",
     "output_type": "error",
     "traceback": [
      "\u001b[1;31m---------------------------------------------------------------------------\u001b[0m",
      "\u001b[1;31mTypeError\u001b[0m                                 Traceback (most recent call last)",
      "Cell \u001b[1;32mIn [23], line 1\u001b[0m\n\u001b[1;32m----> 1\u001b[0m \u001b[43ma\u001b[49m\u001b[43m[\u001b[49m\u001b[38;5;241;43m1\u001b[39;49m\u001b[43m]\u001b[49m\n",
      "\u001b[1;31mTypeError\u001b[0m: 'int' object is not subscriptable"
     ]
    }
   ],
   "source": [
    "a[1]"
   ]
  },
  {
   "cell_type": "code",
   "execution_count": 24,
   "id": "d3090252-506e-43c1-99f1-0e85dc10f8ab",
   "metadata": {},
   "outputs": [
    {
     "name": "stdout",
     "output_type": "stream",
     "text": [
      "2\n"
     ]
    }
   ],
   "source": [
    "a = str(a)\n",
    "print(a[1])"
   ]
  },
  {
   "cell_type": "code",
   "execution_count": null,
   "id": "5de18000-139a-4c82-9398-24a3a3cfa849",
   "metadata": {},
   "outputs": [],
   "source": []
  }
 ],
 "metadata": {
  "kernelspec": {
   "display_name": "Python 3 (ipykernel)",
   "language": "python",
   "name": "python3"
  },
  "language_info": {
   "codemirror_mode": {
    "name": "ipython",
    "version": 3
   },
   "file_extension": ".py",
   "mimetype": "text/x-python",
   "name": "python",
   "nbconvert_exporter": "python",
   "pygments_lexer": "ipython3",
   "version": "3.9.6"
  }
 },
 "nbformat": 4,
 "nbformat_minor": 5
}
