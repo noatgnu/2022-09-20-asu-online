{
 "cells": [
  {
   "cell_type": "markdown",
   "id": "0ec57d32-0a4d-4366-a2a4-014a67d830be",
   "metadata": {
    "tags": []
   },
   "source": [
    "# Python variables and where to find them\n",
    "1. Create and storing variable\n",
    "1. Printing value into console\n",
    "1. Variable scope\n",
    "1. Basic arithmetic with python\n",
    "1. Indexing and slicing python string\n",
    "1. Variable naming best practice"
   ]
  },
  {
   "cell_type": "code",
   "execution_count": null,
   "id": "5615563c-ed16-470d-ad65-9f70a6005707",
   "metadata": {},
   "outputs": [],
   "source": []
  }
 ],
 "metadata": {
  "kernelspec": {
   "display_name": "Python 3 (ipykernel)",
   "language": "python",
   "name": "python3"
  },
  "language_info": {
   "codemirror_mode": {
    "name": "ipython",
    "version": 3
   },
   "file_extension": ".py",
   "mimetype": "text/x-python",
   "name": "python",
   "nbconvert_exporter": "python",
   "pygments_lexer": "ipython3",
   "version": "3.9.10"
  }
 },
 "nbformat": 4,
 "nbformat_minor": 5
}
