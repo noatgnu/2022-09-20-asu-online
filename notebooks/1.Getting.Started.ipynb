{
 "cells": [
  {
   "cell_type": "markdown",
   "id": "8317ba7e-86d6-446a-bf73-049746633b6d",
   "metadata": {},
   "source": [
    "# Getting started with Jupyter Lab\n",
    "1. Familiar with user interface\n",
    "1. Creating markdown cells\n",
    "1. Running Python code in cells\n",
    "1. Modification of workspace"
   ]
  },
  {
   "cell_type": "code",
   "execution_count": null,
   "id": "7551ad79-2348-4159-a90e-af9ea82f9294",
   "metadata": {},
   "outputs": [],
   "source": []
  }
 ],
 "metadata": {
  "kernelspec": {
   "display_name": "Python 3 (ipykernel)",
   "language": "python",
   "name": "python3"
  },
  "language_info": {
   "codemirror_mode": {
    "name": "ipython",
    "version": 3
   },
   "file_extension": ".py",
   "mimetype": "text/x-python",
   "name": "python",
   "nbconvert_exporter": "python",
   "pygments_lexer": "ipython3",
   "version": "3.9.10"
  }
 },
 "nbformat": 4,
 "nbformat_minor": 5
}
